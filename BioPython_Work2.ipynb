{
  "nbformat": 4,
  "nbformat_minor": 0,
  "metadata": {
    "colab": {
      "name": "BioPython Work2.ipynb",
      "provenance": [],
      "collapsed_sections": []
    },
    "kernelspec": {
      "name": "python3",
      "display_name": "Python 3"
    },
    "language_info": {
      "name": "python"
    }
  },
  "cells": [
    {
      "cell_type": "code",
      "metadata": {
        "colab": {
          "base_uri": "https://localhost:8080/"
        },
        "id": "k4CKFjBri5Dq",
        "outputId": "250ce1fb-6db7-40d1-8d72-32f29de50f43"
      },
      "source": [
        "!pip install biopython"
      ],
      "execution_count": null,
      "outputs": [
        {
          "output_type": "stream",
          "text": [
            "Collecting biopython\n",
            "\u001b[?25l  Downloading https://files.pythonhosted.org/packages/3a/cd/0098eaff841850c01da928c7f509b72fd3e1f51d77b772e24de9e2312471/biopython-1.78-cp37-cp37m-manylinux1_x86_64.whl (2.3MB)\n",
            "\u001b[K     |████████████████████████████████| 2.3MB 5.3MB/s \n",
            "\u001b[?25hRequirement already satisfied: numpy in /usr/local/lib/python3.7/dist-packages (from biopython) (1.19.5)\n",
            "Installing collected packages: biopython\n",
            "Successfully installed biopython-1.78\n"
          ],
          "name": "stdout"
        }
      ]
    },
    {
      "cell_type": "code",
      "metadata": {
        "id": "a00Mo_ehhRm9"
      },
      "source": [
        "import sys\n",
        "from Bio import SeqIO\n",
        "import matplotlib as mpl\n",
        "import matplotlib.pyplot as pyplot\n",
        "from Bio import Entrez"
      ],
      "execution_count": null,
      "outputs": []
    },
    {
      "cell_type": "code",
      "metadata": {
        "colab": {
          "base_uri": "https://localhost:8080/"
        },
        "id": "bD0F4BFGoIPX",
        "outputId": "10292fc5-ba0c-472e-9779-732447428425"
      },
      "source": [
        "from Bio.Seq import Seq\n",
        "DNA = Seq(\"ATGCTGGGATATTGA\")\n",
        "print(DNA)"
      ],
      "execution_count": null,
      "outputs": [
        {
          "output_type": "stream",
          "text": [
            "ATGCTGGGATATTGA\n"
          ],
          "name": "stdout"
        }
      ]
    },
    {
      "cell_type": "code",
      "metadata": {
        "colab": {
          "base_uri": "https://localhost:8080/"
        },
        "id": "x-cuJckyQhSI",
        "outputId": "4bf3f59f-1b4c-4efa-fb7d-2147ef590c60"
      },
      "source": [
        "10**(-(ord(\"b\")-33)/10.0)"
      ],
      "execution_count": null,
      "outputs": [
        {
          "output_type": "execute_result",
          "data": {
            "text/plain": [
              "3.162277660168379e-07"
            ]
          },
          "metadata": {
            "tags": []
          },
          "execution_count": 5
        }
      ]
    },
    {
      "cell_type": "code",
      "metadata": {
        "colab": {
          "base_uri": "https://localhost:8080/"
        },
        "id": "cz7IIiMcotEs",
        "outputId": "d653631f-2c54-4d8e-8b8c-e5b5b508ff97"
      },
      "source": [
        "DNA\n",
        "Seq('ATGCTGGGATATTGA')\n",
        "mRNA = DNA.transcribe()\n",
        "print(mRNA)"
      ],
      "execution_count": null,
      "outputs": [
        {
          "output_type": "stream",
          "text": [
            "AUGCUGGGAUAUUGA\n"
          ],
          "name": "stdout"
        }
      ]
    },
    {
      "cell_type": "code",
      "metadata": {
        "colab": {
          "base_uri": "https://localhost:8080/"
        },
        "id": "2vAeqDJaprX8",
        "outputId": "3739722d-4303-4807-edb6-29b16cf7e1e4"
      },
      "source": [
        "mRNA\n",
        "Seq('AUGCUGGGAUAUUGA')\n",
        "protein = mRNA.translate()\n",
        "print(protein)"
      ],
      "execution_count": null,
      "outputs": [
        {
          "output_type": "stream",
          "text": [
            "MLGY*\n"
          ],
          "name": "stdout"
        }
      ]
    },
    {
      "cell_type": "code",
      "metadata": {
        "colab": {
          "base_uri": "https://localhost:8080/"
        },
        "id": "wwqNnkIJqi_a",
        "outputId": "5d1cb119-49c4-43c5-fd14-3d96059eeecf"
      },
      "source": [
        "p = []\n",
        "p.append(0.01)\n",
        "p.append(0.001)\n",
        "p.append(0.005)\n",
        "print(p)"
      ],
      "execution_count": null,
      "outputs": [
        {
          "output_type": "stream",
          "text": [
            "[0.01, 0.001, 0.005]\n"
          ],
          "name": "stdout"
        }
      ]
    },
    {
      "cell_type": "code",
      "metadata": {
        "colab": {
          "base_uri": "https://localhost:8080/"
        },
        "id": "njlE0hS8qvas",
        "outputId": "6d31d85a-3d43-4986-d6aa-8ab76508e7d1"
      },
      "source": [
        "print(sum(p)/len(p))"
      ],
      "execution_count": null,
      "outputs": [
        {
          "output_type": "stream",
          "text": [
            "0.005333333333333333\n"
          ],
          "name": "stdout"
        }
      ]
    },
    {
      "cell_type": "code",
      "metadata": {
        "id": "VOvJax_YmNVi"
      },
      "source": [
        "import matplotlib as mpl\n",
        "mpl.use('Agg')"
      ],
      "execution_count": null,
      "outputs": []
    },
    {
      "cell_type": "code",
      "metadata": {
        "id": "-vyiQBU4RGB6",
        "colab": {
          "base_uri": "https://localhost:8080/"
        },
        "outputId": "c8c925e9-d379-406e-beba-16ebbcad61d3"
      },
      "source": [
        "!wc /content/drive/MyDrive/sequence.fastq"
      ],
      "execution_count": null,
      "outputs": [
        {
          "output_type": "stream",
          "text": [
            "  4  10 170 /content/drive/MyDrive/sequence.fastq\n"
          ],
          "name": "stdout"
        }
      ]
    },
    {
      "cell_type": "markdown",
      "metadata": {
        "id": "W6-AdtNQz3aU"
      },
      "source": [
        "GNU/Linux command is **wc** (short for “word count”) to count the number of lines in a file.\n",
        "\n",
        "The first number is the number of lines in the file, which is 4. The second and third numbers are the number of words and number of characters."
      ]
    },
    {
      "cell_type": "code",
      "metadata": {
        "colab": {
          "base_uri": "https://localhost:8080/"
        },
        "id": "Ff7uDfONzH5X",
        "outputId": "fd57ae69-3243-4a16-bc06-b0edc9205b85"
      },
      "source": [
        "!grep \">\" /content/drive/MyDrive/sequence.fastq | wc"
      ],
      "execution_count": null,
      "outputs": [
        {
          "output_type": "stream",
          "text": [
            "      1       8      73\n"
          ],
          "name": "stdout"
        }
      ]
    },
    {
      "cell_type": "markdown",
      "metadata": {
        "id": "Iq_Mjs191evQ"
      },
      "source": [
        "We can grab out those lines with the program grep, which works by printing matches to a pattern.So we could use the “>” symbol as our pattern, and then pipe it into “wc” .The pipe “|” symbol sends the output of one program into the input of another program, as with this example we are sending the output of grep into wc for counting. "
      ]
    },
    {
      "cell_type": "code",
      "metadata": {
        "id": "Wwkk5Ie1166z"
      },
      "source": [
        "!grep \">\" /content/drive/MyDrive/sequence.fastq  | wc > /content/sequence.txt"
      ],
      "execution_count": null,
      "outputs": []
    },
    {
      "cell_type": "code",
      "metadata": {
        "colab": {
          "base_uri": "https://localhost:8080/"
        },
        "id": "-bYERnOd4I4m",
        "outputId": "6221a8bf-0906-4e26-bc25-35e7d62110df"
      },
      "source": [
        "from Bio import Entrez\n",
        "Entrez.email = \"example@oregonstate.edu\"\n",
        "p_handle = Entrez.efetch(db=\"protein\", id='4507341', rettype=\"gb\", retmode=\"text\")\n",
        "print(p_handle.read())"
      ],
      "execution_count": null,
      "outputs": [
        {
          "output_type": "stream",
          "text": [
            "LOCUS       NP_003173                129 aa            linear   PRI 16-FEB-2021\n",
            "DEFINITION  protachykinin-1 isoform beta precursor [Homo sapiens].\n",
            "ACCESSION   NP_003173\n",
            "VERSION     NP_003173.1\n",
            "DBSOURCE    REFSEQ: accession NM_003182.3\n",
            "KEYWORDS    RefSeq; MANE Select.\n",
            "SOURCE      Homo sapiens (human)\n",
            "  ORGANISM  Homo sapiens\n",
            "            Eukaryota; Metazoa; Chordata; Craniata; Vertebrata; Euteleostomi;\n",
            "            Mammalia; Eutheria; Euarchontoglires; Primates; Haplorrhini;\n",
            "            Catarrhini; Hominidae; Homo.\n",
            "REFERENCE   1  (residues 1 to 129)\n",
            "  AUTHORS   Gherardini J, Uchida Y, Hardman JA, Cheret J, Mace K, Bertolini M\n",
            "            and Paus R.\n",
            "  TITLE     Tissue-resident macrophages can be generated de novo in adult human\n",
            "            skin from resident progenitor cells during substance P-mediated\n",
            "            neurogenic inflammation ex vivo\n",
            "  JOURNAL   PLoS One 15 (1), e0227817 (2020)\n",
            "   PUBMED   31971954\n",
            "  REMARK    GeneRIF: Skin stimulation ex vivo with the neuropeptide substance P\n",
            "            (SP), mimicking neurogenic skin inflammation, significantly\n",
            "            increased the number of CD68+macrophages in the papillary dermis\n",
            "            without altering intracutaneous macrophages proliferation or\n",
            "            apoptosis.\n",
            "            Publication Status: Online-Only\n",
            "REFERENCE   2  (residues 1 to 129)\n",
            "  AUTHORS   Davoodian M, Boroumand N, Mehrabi Bahar M, Jafarian AH, Asadi M and\n",
            "            Hashemy SI.\n",
            "  TITLE     Evaluation of serum level of substance P and tissue distribution of\n",
            "            NK-1 receptor in breast cancer\n",
            "  JOURNAL   Mol Biol Rep 46 (1), 1285-1293 (2019)\n",
            "   PUBMED   30684188\n",
            "  REMARK    GeneRIF: Increased serum SP levels and NK1R tissue distribution\n",
            "            were observed in patients with breast cancer as compared with their\n",
            "            controls.\n",
            "REFERENCE   3  (residues 1 to 129)\n",
            "  AUTHORS   Xu H, Sun Y, Ma Z, Xu X, Qin L and Luo B.\n",
            "  TITLE     LOC134466 methylation promotes oncogenesis of endometrial carcinoma\n",
            "            through LOC134466/hsa-miR-196a-5p/TAC1 axis\n",
            "  JOURNAL   Aging (Albany NY) 10 (11), 3353-3370 (2018)\n",
            "   PUBMED   30485833\n",
            "  REMARK    GeneRIF: These findings establish a novel regulatory axis,\n",
            "            LOC134466/hsa-miR-196a-5p/TAC1. Downregulation of the axis promoted\n",
            "            EC development through TACR3, which further activated neuroactive\n",
            "            ligand-receptor interaction.\n",
            "REFERENCE   4  (residues 1 to 129)\n",
            "  AUTHORS   Taracanova A, Tsilioni I, Conti P, Norwitz ER, Leeman SE and\n",
            "            Theoharides TC.\n",
            "  TITLE     Substance P and IL-33 administered together stimulate a marked\n",
            "            secretion of IL-1beta from human mast cells, inhibited by\n",
            "            methoxyluteolin\n",
            "  JOURNAL   Proc Natl Acad Sci U S A 115 (40), E9381-E9390 (2018)\n",
            "   PUBMED   30232261\n",
            "  REMARK    GeneRIF: Preincubation of LAD2 cells with the natural flavonoid\n",
            "            methoxyluteolin (1-100 mM) inhibits (P < 0.0001) secretion and gene\n",
            "            expression of IL-1beta, procaspase-1, and pro-IL-1beta. Mast cell\n",
            "            secretion of IL-1beta in response to SP and IL-33 reveals targets\n",
            "            for the development of antiinflammatory therapies.\n",
            "REFERENCE   5  (residues 1 to 129)\n",
            "  AUTHORS   Woltering EA, Voros BA, Thiagarajan R, Beyer DT, Ramirez RA, Wang\n",
            "            YZ, Mamikunian G and Boudreaux JP.\n",
            "  TITLE     Plasma Neurokinin A Levels Predict Survival in Well-Differentiated\n",
            "            Neuroendocrine Tumors of the Small Bowel\n",
            "  JOURNAL   Pancreas 47 (7), 843-848 (2018)\n",
            "   PUBMED   29939909\n",
            "  REMARK    GeneRIF: Serial monitoring of plasma neurokinin A (NKA) levels is\n",
            "            useful in identifying patients who have a poor prognosis, and\n",
            "            elevated NKA levels can indicate the need for immediate therapeutic\n",
            "            intervention.\n",
            "REFERENCE   6  (residues 1 to 129)\n",
            "  AUTHORS   Bannon MJ, Poosch MS, Haverstick DM, Mandal A, Xue IC, Shibata K\n",
            "            and Dragovic LJ.\n",
            "  TITLE     Preprotachykinin gene expression in the human basal ganglia:\n",
            "            characterization of mRNAs and pre-mRNAs produced by alternate RNA\n",
            "            splicing\n",
            "  JOURNAL   Brain Res Mol Brain Res 12 (1-3), 225-231 (1992)\n",
            "   PUBMED   1312203\n",
            "REFERENCE   7  (residues 1 to 129)\n",
            "  AUTHORS   Chiwakata C, Brackmann B, Hunt N, Davidoff M, Schulze W and Ivell\n",
            "            R.\n",
            "  TITLE     Tachykinin (substance-P) gene expression in Leydig cells of the\n",
            "            human and mouse testis\n",
            "  JOURNAL   Endocrinology 128 (5), 2441-2448 (1991)\n",
            "   PUBMED   1708336\n",
            "REFERENCE   8  (residues 1 to 129)\n",
            "  AUTHORS   McGregor GP and Conlon JM.\n",
            "  TITLE     Characterization of the C-terminal flanking peptide of human\n",
            "            beta-preprotachykinin\n",
            "  JOURNAL   Peptides 11 (5), 907-910 (1990)\n",
            "   PUBMED   2284201\n",
            "REFERENCE   9  (residues 1 to 129)\n",
            "  AUTHORS   Theodorsson-Norheim,E., Jornvall,H., Andersson,M., Norheim,I.,\n",
            "            Oberg,K. and Jacobsson,G.\n",
            "  TITLE     Isolation and characterization of neurokinin A, neurokinin A(3-10)\n",
            "            and neurokinin A(4-10) from a neutral water extract of a metastatic\n",
            "            ileal carcinoid tumour\n",
            "  JOURNAL   Eur J Biochem 166 (3), 693-697 (1987)\n",
            "   PUBMED   3038549\n",
            "REFERENCE   10 (residues 1 to 129)\n",
            "  AUTHORS   Harmar,A.J., Armstrong,A., Pascall,J.C., Chapman,K., Rosie,R.,\n",
            "            Curtis,A., Going,J., Edwards,C.R. and Fink,G.\n",
            "  TITLE     cDNA sequence of human beta-preprotachykinin, the common precursor\n",
            "            to substance P and neurokinin A\n",
            "  JOURNAL   FEBS Lett 208 (1), 67-72 (1986)\n",
            "   PUBMED   3770210\n",
            "COMMENT     REVIEWED REFSEQ: This record has been curated by NCBI staff. The\n",
            "            reference sequence was derived from DN992454.1, AF050655.1 and\n",
            "            U37529.1.\n",
            "            \n",
            "            Summary: This gene encodes four products of the tachykinin peptide\n",
            "            hormone family, substance P and neurokinin A, as well as the\n",
            "            related peptides, neuropeptide K and neuropeptide gamma. These\n",
            "            hormones are thought to function as neurotransmitters which\n",
            "            interact with nerve receptors and smooth muscle cells. They are\n",
            "            known to induce behavioral responses and function as vasodilators\n",
            "            and secretagogues. Substance P is an antimicrobial peptide with\n",
            "            antibacterial and antifungal properties. Multiple transcript\n",
            "            variants encoding different isoforms have been found for this gene.\n",
            "            [provided by RefSeq, Nov 2014].\n",
            "            \n",
            "            Transcript Variant: Transcript variant beta encodes the full-length\n",
            "            form of this gene. It encodes hormones substance P, neurokinin A,\n",
            "            as well as the neuropeptide K.\n",
            "            \n",
            "            Publication Note:  This RefSeq record includes a subset of the\n",
            "            publications that are available for this gene. Please see the Gene\n",
            "            record to access additional publications.\n",
            "            \n",
            "            ##Evidence-Data-START##\n",
            "            Transcript exon combination :: BC018047.1, AK222957.1 [ECO:0000332]\n",
            "            RNAseq introns              :: single sample supports all introns\n",
            "                                           SAMEA1966682, SAMEA1968189\n",
            "                                           [ECO:0000348]\n",
            "            ##Evidence-Data-END##\n",
            "            \n",
            "            ##RefSeq-Attributes-START##\n",
            "            MANE Ensembl match                 :: ENST00000319273.10/\n",
            "                                                  ENSP00000321106.5\n",
            "            Protein has antimicrobial activity :: PMID: 12074933\n",
            "            RefSeq Select criteria             :: based on conservation,\n",
            "                                                  expression, longest protein\n",
            "            ##RefSeq-Attributes-END##\n",
            "FEATURES             Location/Qualifiers\n",
            "     source          1..129\n",
            "                     /organism=\"Homo sapiens\"\n",
            "                     /db_xref=\"taxon:9606\"\n",
            "                     /chromosome=\"7\"\n",
            "                     /map=\"7q21.3\"\n",
            "     Protein         1..129\n",
            "                     /product=\"protachykinin-1 isoform beta precursor\"\n",
            "                     /note=\"neuropeptide gamma; neuropeptide K; tachykinin,\n",
            "                     precursor 1 (substance K, substance P, neurokinin 1,\n",
            "                     neurokinin 2, neuromedin L, neurokinin alpha, neuropeptide\n",
            "                     K, neuropeptide gamma); tachykinin 2; protachykinin;\n",
            "                     preprotachykinin; neurokinin A; protachykinin-1; PPT\"\n",
            "                     /calculated_mol_wt=12910\n",
            "     sig_peptide     1..19\n",
            "                     /inference=\"COORDINATES: ab initio prediction:SignalP:4.0\"\n",
            "                     /calculated_mol_wt=2112\n",
            "     proprotein      20..129\n",
            "                     /product=\"protachykinin-1 isoform beta\"\n",
            "                     /calculated_mol_wt=12910\n",
            "     mat_peptide     58..68\n",
            "                     /product=\"substance P\"\n",
            "                     /experiment=\"DESCRIPTION:antimicrobial peptide[PMID:\n",
            "                     12074933]\"\n",
            "                     /calculated_mol_wt=1349\n",
            "     Site            59..60\n",
            "                     /site_type=\"cleavage\"\n",
            "                     /note=\"Cleavage, by FAP.\n",
            "                     /evidence=ECO:0000269|PubMed:21314817; propagated from\n",
            "                     UniProtKB/Swiss-Prot (P20366.1)\"\n",
            "     Site            68\n",
            "                     /site_type=\"amidation\"\n",
            "                     /note=\"Methionine amide.\n",
            "                     /evidence=ECO:0000269|PubMed:3770210; propagated from\n",
            "                     UniProtKB/Swiss-Prot (P20366.1)\"\n",
            "     mat_peptide     72..107\n",
            "                     /product=\"neuropeptide K\"\n",
            "                     /calculated_mol_wt=3982\n",
            "     mat_peptide     98..107\n",
            "                     /product=\"neurokinin A\"\n",
            "                     /calculated_mol_wt=1134\n",
            "     Site            107\n",
            "                     /site_type=\"amidation\"\n",
            "                     /note=\"Methionine amide.\n",
            "                     /evidence=ECO:0000269|PubMed:3038549,\n",
            "                     ECO:0000269|PubMed:3770210; propagated from\n",
            "                     UniProtKB/Swiss-Prot (P20366.1)\"\n",
            "     CDS             1..129\n",
            "                     /gene=\"TAC1\"\n",
            "                     /gene_synonym=\"Hs.2563; NK2; NKNA; NPK; TAC2\"\n",
            "                     /coded_by=\"NM_003182.3:120..509\"\n",
            "                     /note=\"isoform beta precursor is encoded by transcript\n",
            "                     variant beta\"\n",
            "                     /db_xref=\"CCDS:CCDS5649.1\"\n",
            "                     /db_xref=\"GeneID:6863\"\n",
            "                     /db_xref=\"HGNC:HGNC:11517\"\n",
            "                     /db_xref=\"MIM:162320\"\n",
            "ORIGIN      \n",
            "        1 mkilvalavf flvstqlfae eiganddlny wsdwydsdqi keelpepfeh llqriarrpk\n",
            "       61 pqqffglmgk rdadssiekq vallkalygh gqishkrhkt dsfvglmgkr alnsvayers\n",
            "      121 amqnyerrr\n",
            "//\n",
            "\n",
            "\n"
          ],
          "name": "stdout"
        }
      ]
    },
    {
      "cell_type": "code",
      "metadata": {
        "colab": {
          "base_uri": "https://localhost:8080/"
        },
        "id": "otFET9Rn4UKG",
        "outputId": "cd1513f4-9a61-495f-b5b2-842a9c8649f3"
      },
      "source": [
        "from Bio import Entrez\n",
        "Entrez.email = \"example@oregonstate.edu\"\n",
        "rec = Entrez.read(Entrez.esearch(db=\"protein\", term=\"NP_003173\"))\n",
        "print(rec['IdList'])"
      ],
      "execution_count": null,
      "outputs": [
        {
          "output_type": "stream",
          "text": [
            "['4507341']\n"
          ],
          "name": "stdout"
        }
      ]
    },
    {
      "cell_type": "code",
      "metadata": {
        "colab": {
          "base_uri": "https://localhost:8080/"
        },
        "id": "UCGvgb0v4j5U",
        "outputId": "39180e5e-e3b3-4d54-b687-e71fd8117f66"
      },
      "source": [
        "p_handle = Entrez.efetch(db=\"protein\", id=rec[\"IdList\"][0], rettype=\"fasta\")\n",
        "print(p_handle.read())"
      ],
      "execution_count": null,
      "outputs": [
        {
          "output_type": "stream",
          "text": [
            ">NP_003173.1 protachykinin-1 isoform beta precursor [Homo sapiens]\n",
            "MKILVALAVFFLVSTQLFAEEIGANDDLNYWSDWYDSDQIKEELPEPFEHLLQRIARRPKPQQFFGLMGK\n",
            "RDADSSIEKQVALLKALYGHGQISHKRHKTDSFVGLMGKRALNSVAYERSAMQNYERRR\n",
            "\n",
            "\n"
          ],
          "name": "stdout"
        }
      ]
    },
    {
      "cell_type": "code",
      "metadata": {
        "colab": {
          "base_uri": "https://localhost:8080/"
        },
        "id": "7tUQbiLc5PF5",
        "outputId": "62fe577d-6adc-40e9-fc1b-290ee9fe2587"
      },
      "source": [
        "! wget http://hendrixlab.cgrb.oregonstate.edu/teaching/printFastqReadLengths.py"
      ],
      "execution_count": null,
      "outputs": [
        {
          "output_type": "stream",
          "text": [
            "--2021-05-09 08:59:04--  http://hendrixlab.cgrb.oregonstate.edu/teaching/printFastqReadLengths.py\n",
            "Resolving hendrixlab.cgrb.oregonstate.edu (hendrixlab.cgrb.oregonstate.edu)... 128.193.83.38\n",
            "Connecting to hendrixlab.cgrb.oregonstate.edu (hendrixlab.cgrb.oregonstate.edu)|128.193.83.38|:80... connected.\n",
            "HTTP request sent, awaiting response... 200 OK\n",
            "Length: 825 [text/plain]\n",
            "Saving to: ‘printFastqReadLengths.py’\n",
            "\n",
            "printFastqReadLengt 100%[===================>]     825  --.-KB/s    in 0s      \n",
            "\n",
            "2021-05-09 08:59:04 (109 MB/s) - ‘printFastqReadLengths.py’ saved [825/825]\n",
            "\n"
          ],
          "name": "stdout"
        }
      ]
    },
    {
      "cell_type": "markdown",
      "metadata": {
        "id": "5YldnIjn6G4M"
      },
      "source": [
        "**CH 2 SEQUENCE MOTIFS**"
      ]
    },
    {
      "cell_type": "code",
      "metadata": {
        "colab": {
          "base_uri": "https://localhost:8080/"
        },
        "id": "8OxSGEiG6kAa",
        "outputId": "630e419f-97eb-4b60-e018-51fd9f2cbf4e"
      },
      "source": [
        "from Bio.Seq import Seq\n",
        "from Bio import SeqUtils\n",
        "pattern = Seq(\"ACG\")\n",
        "sequence = Seq(\"ATGCGCGACGGCGTGATCAGCTTATAGCCGTACGACTGCTGCAACGTGACTGAT\")\n",
        "results = SeqUtils.nt_search(str(sequence),pattern)\n",
        "print(results)"
      ],
      "execution_count": null,
      "outputs": [
        {
          "output_type": "stream",
          "text": [
            "['ACG', 7, 31, 43]\n"
          ],
          "name": "stdout"
        }
      ]
    },
    {
      "cell_type": "code",
      "metadata": {
        "colab": {
          "base_uri": "https://localhost:8080/"
        },
        "id": "NUT-YrFM6t93",
        "outputId": "48437957-43d8-4c4b-d17e-3d848eb56f9b"
      },
      "source": [
        "results_rc = SeqUtils.nt_search(str(sequence),pattern.reverse_complement())\n",
        "print(results_rc)"
      ],
      "execution_count": null,
      "outputs": [
        {
          "output_type": "stream",
          "text": [
            "['CGT', 11, 28, 44]\n"
          ],
          "name": "stdout"
        }
      ]
    },
    {
      "cell_type": "code",
      "metadata": {
        "id": "1ZcUeB2m7BDi",
        "colab": {
          "base_uri": "https://localhost:8080/"
        },
        "outputId": "2440ff5f-81fe-48f8-86dc-eac2178387c8"
      },
      "source": [
        "results_rc = SeqUtils.nt_search(str(sequence.reverse_complement()),pattern)\n",
        "print(results_rc)"
      ],
      "execution_count": null,
      "outputs": [
        {
          "output_type": "stream",
          "text": [
            "['ACG', 7, 23, 40]\n"
          ],
          "name": "stdout"
        }
      ]
    },
    {
      "cell_type": "markdown",
      "metadata": {
        "id": "A3jkXL7vEUPX"
      },
      "source": [
        "SeqUtils.nt search() function is built to recognize patterns that include the wild-card character"
      ]
    },
    {
      "cell_type": "code",
      "metadata": {
        "id": "S7H9n8Dx7GgY",
        "colab": {
          "base_uri": "https://localhost:8080/"
        },
        "outputId": "fc19a9b2-54a3-48ca-efa2-30c24478d171"
      },
      "source": [
        "from Bio import SeqUtils\n",
        "consensus = \"RGWYV\"\n",
        "sequence = \"CGTAGCTAGCTCAGAGCAGGGACACGTGCTAGCAACAGCGCT\"\n",
        "SeqUtils.nt_search(sequence,consensus)"
      ],
      "execution_count": null,
      "outputs": [
        {
          "output_type": "execute_result",
          "data": {
            "text/plain": [
              "['[AG]G[AT][CT][ACG]', 19]"
            ]
          },
          "metadata": {
            "tags": []
          },
          "execution_count": 4
        }
      ]
    },
    {
      "cell_type": "code",
      "metadata": {
        "colab": {
          "base_uri": "https://localhost:8080/"
        },
        "id": "IdNArR_HF1AT",
        "outputId": "bd422ce7-4b34-4b7a-bdf1-d0de964e9575"
      },
      "source": [
        "from Bio import motifs\n",
        "from Bio.Seq import Seq\n",
        "instances = [Seq(\"CAGTT\"),Seq(\"CATTT\"),Seq(\"CATTA\"),Seq(\"CAGTA\"),Seq(\"CAGTT\"),Seq(\"CAGTA\")]\n",
        "motif = motifs.create(instances)\n",
        "print(motif.degenerate_consensus)"
      ],
      "execution_count": null,
      "outputs": [
        {
          "output_type": "stream",
          "text": [
            "CAKTW\n"
          ],
          "name": "stdout"
        }
      ]
    },
    {
      "cell_type": "code",
      "metadata": {
        "colab": {
          "base_uri": "https://localhost:8080/"
        },
        "id": "4UWeU9IhGGUP",
        "outputId": "e55d3f2f-a3fa-4f6f-af55-fd41b6330170"
      },
      "source": [
        "print(motif.counts)"
      ],
      "execution_count": null,
      "outputs": [
        {
          "output_type": "stream",
          "text": [
            "        0      1      2      3      4\n",
            "A:   0.00   6.00   0.00   0.00   3.00\n",
            "C:   6.00   0.00   0.00   0.00   0.00\n",
            "G:   0.00   0.00   4.00   0.00   0.00\n",
            "T:   0.00   0.00   2.00   6.00   3.00\n",
            "\n"
          ],
          "name": "stdout"
        }
      ]
    },
    {
      "cell_type": "code",
      "metadata": {
        "colab": {
          "base_uri": "https://localhost:8080/"
        },
        "id": "glPx3mczIIJQ",
        "outputId": "fc79e740-aeb5-4208-be32-b1ff0b4b4a74"
      },
      "source": [
        "from Bio import motifs\n",
        "motif = motifs.read(open(\"/content/drive/MyDrive/MA0003.4.jaspar\"),\"jaspar\")\n",
        "print(motif.counts)"
      ],
      "execution_count": null,
      "outputs": [
        {
          "output_type": "stream",
          "text": [
            "        0      1      2      3      4      5      6      7      8      9     10     11     12     13\n",
            "A: 4335.00 2763.00 2842.00 1088.00 280.00 116.00 278.00 530.00 13567.00 186.00 154.00 1221.00 4220.00 5204.00\n",
            "C: 4092.00 4620.00 2634.00 3615.00 15321.00 15351.00 1173.00 13536.00 739.00 217.00 234.00 9445.00 4783.00 3915.00\n",
            "G: 4072.00 3374.00 3791.00 9961.00 187.00 212.00 750.00 1406.00 1229.00 15432.00 15422.00 4098.00 3051.00 3841.00\n",
            "T: 3469.00 5211.00 6701.00 1304.00 180.00 289.00 13767.00 496.00 433.00 133.00 158.00 1204.00 3914.00 3008.00\n",
            "\n"
          ],
          "name": "stdout"
        }
      ]
    },
    {
      "cell_type": "code",
      "metadata": {
        "id": "JJ-GBx3zNXc0"
      },
      "source": [
        "motif.weblogo(\"giant_LOGO.pdf\",format=\"pdf\")"
      ],
      "execution_count": null,
      "outputs": []
    },
    {
      "cell_type": "code",
      "metadata": {
        "id": "MzpoVeToNgem"
      },
      "source": [
        "from Bio.Seq import Seq\n",
        "import random\n",
        "seqs = [Seq('GTCGATCGATCGTACGTACGTACGTACGATGCTAGCTACGTACC'),Seq('GGTTCGAGTCGAGCAAGAGCTAGCTAGCGACGTAC')]\n",
        "K = 7\n",
        "j = 0\n",
        "instances = []\n",
        "for seq in seqs:\n",
        "  instances.append(seq[j:j+K])"
      ],
      "execution_count": null,
      "outputs": []
    },
    {
      "cell_type": "code",
      "metadata": {
        "colab": {
          "base_uri": "https://localhost:8080/"
        },
        "id": "bGfSjrpJNvsh",
        "outputId": "2a41c24d-ae22-4473-ecb7-3f058cf1371e"
      },
      "source": [
        "print(instances)"
      ],
      "execution_count": null,
      "outputs": [
        {
          "output_type": "stream",
          "text": [
            "[Seq('GTCGATC'), Seq('GGTTCGA')]\n"
          ],
          "name": "stdout"
        }
      ]
    },
    {
      "cell_type": "code",
      "metadata": {
        "colab": {
          "base_uri": "https://localhost:8080/"
        },
        "id": "1tsQvBT9N0Q3",
        "outputId": "cbc2f2ba-da57-4712-f6e9-ee88ca3a57db"
      },
      "source": [
        "from Bio import motifs\n",
        "motif = motifs.create(instances)\n",
        "print(motif.counts)"
      ],
      "execution_count": null,
      "outputs": [
        {
          "output_type": "stream",
          "text": [
            "        0      1      2      3      4      5      6\n",
            "A:   0.00   0.00   0.00   0.00   1.00   0.00   1.00\n",
            "C:   0.00   0.00   1.00   0.00   1.00   0.00   1.00\n",
            "G:   2.00   1.00   0.00   1.00   0.00   1.00   0.00\n",
            "T:   0.00   1.00   1.00   1.00   0.00   1.00   0.00\n",
            "\n"
          ],
          "name": "stdout"
        }
      ]
    },
    {
      "cell_type": "code",
      "metadata": {
        "colab": {
          "base_uri": "https://localhost:8080/"
        },
        "id": "UtuHb9T5N6Gc",
        "outputId": "2d96b0d9-2902-4ccc-c8eb-0a1b34e68593"
      },
      "source": [
        "weightMatrix = motif.pssm\n",
        "print(weightMatrix)"
      ],
      "execution_count": null,
      "outputs": [
        {
          "output_type": "stream",
          "text": [
            "        0      1      2      3      4      5      6\n",
            "A:   -inf   -inf   -inf   -inf   1.00   -inf   1.00\n",
            "C:   -inf   -inf   1.00   -inf   1.00   -inf   1.00\n",
            "G:   2.00   1.00   -inf   1.00   -inf   1.00   -inf\n",
            "T:   -inf   1.00   1.00   1.00   -inf   1.00   -inf\n",
            "\n"
          ],
          "name": "stdout"
        }
      ]
    },
    {
      "cell_type": "code",
      "metadata": {
        "colab": {
          "base_uri": "https://localhost:8080/"
        },
        "id": "ZPxxwe5HOC1c",
        "outputId": "4acc4416-6ea6-4d8e-e47d-bc4f6b29a662"
      },
      "source": [
        "for position,score in weightMatrix.search(seq):\n",
        "  print(position, score)"
      ],
      "execution_count": null,
      "outputs": [
        {
          "output_type": "stream",
          "text": [
            "0 8.0\n",
            "7 8.0\n",
            "-11 8.0\n"
          ],
          "name": "stdout"
        }
      ]
    },
    {
      "cell_type": "code",
      "metadata": {
        "colab": {
          "base_uri": "https://localhost:8080/"
        },
        "id": "Vd-W_DbnPTuc",
        "outputId": "a5fe915d-396e-40b8-f78a-8c0a1cc355e4"
      },
      "source": [
        "! wget http://hendrixlab.cgrb.oregonstate.edu/teaching/gt.fasta"
      ],
      "execution_count": null,
      "outputs": [
        {
          "output_type": "stream",
          "text": [
            "--2021-05-09 08:59:23--  http://hendrixlab.cgrb.oregonstate.edu/teaching/gt.fasta\n",
            "Resolving hendrixlab.cgrb.oregonstate.edu (hendrixlab.cgrb.oregonstate.edu)... 128.193.83.38\n",
            "Connecting to hendrixlab.cgrb.oregonstate.edu (hendrixlab.cgrb.oregonstate.edu)|128.193.83.38|:80... connected.\n",
            "HTTP request sent, awaiting response... 200 OK\n",
            "Length: 1566 (1.5K)\n",
            "Saving to: ‘gt.fasta.1’\n",
            "\n",
            "gt.fasta.1          100%[===================>]   1.53K  --.-KB/s    in 0s      \n",
            "\n",
            "2021-05-09 08:59:24 (225 MB/s) - ‘gt.fasta.1’ saved [1566/1566]\n",
            "\n"
          ],
          "name": "stdout"
        }
      ]
    },
    {
      "cell_type": "code",
      "metadata": {
        "id": "RwG4W1ITPZoq"
      },
      "source": [
        "from Bio import SeqIO\n",
        "from Bio import motifs\n",
        "from Bio.Seq import Seq\n",
        "sequences = SeqIO.parse(\"gt.fasta\",\"fasta\")\n",
        "instances = []\n",
        "for data in sequences:\n",
        "  instance = data.seq\n",
        "  instances.append(instance)"
      ],
      "execution_count": null,
      "outputs": []
    },
    {
      "cell_type": "code",
      "metadata": {
        "id": "eFeERrF5P-Yg"
      },
      "source": [
        "motif = motifs.create(instances)"
      ],
      "execution_count": null,
      "outputs": []
    },
    {
      "cell_type": "code",
      "metadata": {
        "colab": {
          "base_uri": "https://localhost:8080/"
        },
        "id": "-ZARIL8dQH2K",
        "outputId": "1550ecff-86c4-4159-b549-9d0796caa409"
      },
      "source": [
        "print(motif.counts)"
      ],
      "execution_count": null,
      "outputs": [
        {
          "output_type": "stream",
          "text": [
            "        0      1      2      3      4      5      6      7      8      9     10     11     12     13     14     15     16     17     18     19     20     21     22     23     24     25     26     27\n",
            "A:  11.00   7.00  11.00   4.00   7.00   6.00  10.00   6.00   6.00  14.00   9.00   5.00   3.00   9.00  13.00   7.00   9.00  11.00  11.00  10.00   6.00  13.00  10.00   6.00   7.00   7.00   8.00  14.00\n",
            "C:   7.00   3.00   5.00  10.00   5.00   6.00   5.00   8.00   4.00   7.00   9.00   8.00   9.00   7.00   2.00   8.00   5.00   4.00   4.00  10.00   6.00   4.00  10.00   8.00   6.00   9.00   6.00   9.00\n",
            "G:   8.00  10.00   2.00  10.00  12.00   7.00  13.00   5.00   6.00   4.00   8.00  12.00  10.00   3.00   3.00   6.00  11.00   8.00   7.00   7.00  11.00   5.00   5.00  13.00   9.00   5.00  10.00   5.00\n",
            "T:   9.00  15.00  17.00  11.00  11.00  16.00   7.00  16.00  19.00  10.00   9.00  10.00  13.00  16.00  17.00  14.00  10.00  12.00  13.00   8.00  12.00  13.00  10.00   8.00  13.00  14.00  11.00   7.00\n",
            "\n"
          ],
          "name": "stdout"
        }
      ]
    },
    {
      "cell_type": "code",
      "metadata": {
        "id": "UaziCb0uQiGw"
      },
      "source": [
        "motif.weblogo(\"giant_1.pdf\",format=\"pdf\")"
      ],
      "execution_count": null,
      "outputs": []
    },
    {
      "cell_type": "code",
      "metadata": {
        "colab": {
          "base_uri": "https://localhost:8080/"
        },
        "id": "ISVdAu0nc2f_",
        "outputId": "215d6ecb-6a46-4cd3-97b4-c7c9740c622c"
      },
      "source": [
        "pdfFileObj = open('/content/giant_1.pdf', 'rb')\n",
        "pdfReader = PyPDF2.PdfFileReader(pdfFileObj)\n",
        "print(pdfReader)"
      ],
      "execution_count": null,
      "outputs": [
        {
          "output_type": "stream",
          "text": [
            "<PyPDF2.pdf.PdfFileReader object at 0x7fb9e383c110>\n"
          ],
          "name": "stdout"
        }
      ]
    },
    {
      "cell_type": "code",
      "metadata": {
        "colab": {
          "base_uri": "https://localhost:8080/",
          "height": 54
        },
        "id": "y5xQleFRdHJG",
        "outputId": "b64e7b77-a1e9-46ae-8087-70f516208313"
      },
      "source": [
        "pageObj = pdfReader.getPage(0)\n",
        "page1 = pageObj.extractText()\n",
        "page1"
      ],
      "execution_count": null,
      "outputs": [
        {
          "output_type": "execute_result",
          "data": {
            "application/vnd.google.colaboratory.intrinsic+json": {
              "type": "string"
            },
            "text/plain": [
              "'WebLogo 3.7.40.01.02.0bits5¢TACAGTGCATGCT5ATGCAGTCTAGGACTCGAT10GCTACTGCGTGCAT15CGATGACTATGGATCGAT20CACAGTCGTATCAATCG25CAGTGACTAGTGTCA3¢'"
            ]
          },
          "metadata": {
            "tags": []
          },
          "execution_count": 69
        }
      ]
    },
    {
      "cell_type": "code",
      "metadata": {
        "id": "0BzZFgoVW7rS"
      },
      "source": [
        "quit()"
      ],
      "execution_count": null,
      "outputs": []
    },
    {
      "cell_type": "code",
      "metadata": {
        "colab": {
          "base_uri": "https://localhost:8080/"
        },
        "id": "AdsFjB2Nd9ei",
        "outputId": "c34b6e98-8424-4c7a-9b60-aa975740864c"
      },
      "source": [
        "# STEP 1\n",
        "# import libraries\n",
        "import fitz\n",
        "import io\n",
        "from PIL import Image\n",
        "\n",
        "# STEP 2\n",
        "# file path you want to extract images from\n",
        "file = \"/content/giant_LOGO.pdf\"\n",
        "\n",
        "# open the file\n",
        "pdf_file = fitz.open(file)\n",
        "\n",
        "# STEP 3\n",
        "# iterate over PDF pages\n",
        "for page_index in range(len(pdf_file)):\n",
        "\t\n",
        "\t# get the page itself\n",
        "\tpage = pdf_file[page_index]\n",
        "\timage_list = page.getImageList()\n",
        "\t\n",
        "\t# printing number of images found in this page\n",
        "\tif image_list:\n",
        "\t\tprint(f\"[+] Found a total of {len(image_list)} images in page {page_index}\")\n",
        "\telse:\n",
        "\t\tprint(\"[!] No images found on page\", page_index)\n",
        "\tfor image_index, img in enumerate(page.getImageList(), start=1):\n",
        "\t\t\n",
        "\t\t# get the XREF of the image\n",
        "\t\txref = img[0]\n",
        "\t\t\n",
        "\t\t# extract the image bytes\n",
        "\t\tbase_image = pdf_file.extractImage(xref)\n",
        "\t\timage_bytes = base_image[\"image\"]\n",
        "\t\t\n",
        "\t\t# get the image extension\n",
        "\t\timage_ext = base_image[\"ext\"]"
      ],
      "execution_count": null,
      "outputs": [
        {
          "output_type": "stream",
          "text": [
            "[!] No images found on page 0\n"
          ],
          "name": "stdout"
        }
      ]
    },
    {
      "cell_type": "code",
      "metadata": {
        "colab": {
          "base_uri": "https://localhost:8080/"
        },
        "id": "y1JQo1aseTDl",
        "outputId": "ca5ff652-152e-49e5-fa28-ab488b401e12"
      },
      "source": [
        "! less /content/drive/MyDrive/MA0003.4.jaspar"
      ],
      "execution_count": null,
      "outputs": [
        {
          "output_type": "stream",
          "text": [
            "\u001b7\u001b[?47h\u001b[?1h\u001b=\r>MA0003.4       TFAP2A\r\n",
            "A  [  4335   2763   2842   1088    280    116    278    530  13567    186    154 \b   1221   4220   5204 ]\r\n",
            "C  [  4092   4620   2634   3615  15321  15351   1173  13536    739    217    234 \b   9445   4783   3915 ]\r\n",
            "G  [  4072   3374   3791   9961    187    212    750   1406   1229  15432  15422 \b   4098   3051   3841 ]\r\n",
            "T  [  3469   5211   6701   1304    180    289  13767    496    433    133    158 \b   1204   3914   3008 ]\n",
            "\u001b[K...skipping...\n",
            ">MA0003.4       TFAP2A\n",
            "A  [  4335   2763   2842   1088    280    116    278    530  13567    186    154 \b   1221   4220   5204 ]\n",
            "C  [  4092   4620   2634   3615  15321  15351   1173  13536    739    217    234 \b   9445   4783   3915 ]\n",
            "G  [  4072   3374   3791   9961    187    212    750   1406   1229  15432  15422 \b   4098   3051   3841 ]\n",
            "T  [  3469   5211   6701   1304    180    289  13767    496    433    133    158 \b   1204   3914   3008 ]\n",
            "\u001b[1m~\u001b[m\n",
            "\u001b[1m~\u001b[m\n",
            "\u001b[1m~\u001b[m\n",
            "\u001b[1m~\u001b[m\n",
            "\u001b[1m~\u001b[m\n",
            "\u001b[1m~\u001b[m\n",
            "\u001b[1m~\u001b[m\n",
            "\u001b[1m~\u001b[m\n",
            "\u001b[1m~\u001b[m\n",
            "\u001b[1m~\u001b[m\n",
            "\u001b[1m~\u001b[m\n",
            "\u001b[1m~\u001b[m\n",
            "\u001b[1m~\u001b[m\n",
            "\u001b[1m~\u001b[m\n",
            "\u001b[K/bin/bash: -c: line 0: syntax error near unexpected token `)'\n",
            "/bin/bash: -c: line 0: `lessecho -p0x22 -d0x22 -e\\\\ -n0x3b -n0x20 -n0x2a -n0x3f -n0x9 -n0xa -n0x27 -n0x22 -n0x28 -n0x29 -n0x3c -n0x3e -n0x5b -n0x5d -n0x7c -n0x26 -n0x5e -n0x60 -n0x23 -n0x5c -n0x24 -n0x25 -n0x3d -n0x7e -- ND)'\n",
            "\u001b[K...skipping...\n",
            ">MA0003.4       TFAP2A\n",
            "A  [  4335   2763   2842   1088    280    116    278    530  13567    186    154 \b   1221   4220   5204 ]\n",
            "C  [  4092   4620   2634   3615  15321  15351   1173  13536    739    217    234 \b   9445   4783   3915 ]\n",
            "G  [  4072   3374   3791   9961    187    212    750   1406   1229  15432  15422 \b   4098   3051   3841 ]\n",
            "T  [  3469   5211   6701   1304    180    289  13767    496    433    133    158 \b   1204   3914   3008 ]\n",
            "\u001b[1m~\u001b[m\n",
            "\u001b[1m~\u001b[m\n",
            "\u001b[1m~\u001b[m\n",
            "\u001b[1m~\u001b[m\n",
            "\u001b[1m~\u001b[m\n",
            "\u001b[1m~\u001b[m\n",
            "\u001b[1m~\u001b[m\n",
            "\u001b[1m~\u001b[m\n",
            "\u001b[1m~\u001b[m\n",
            "\u001b[1m~\u001b[m\n",
            "\u001b[1m~\u001b[m\n",
            "\u001b[1m~\u001b[m\n",
            "\u001b[1m~\u001b[m\n",
            "\u001b[1m~\u001b[m\n",
            "\u001b[K...skipping...\n",
            ">MA0003.4       TFAP2A\n",
            "A  [  4335   2763   2842   1088    280    116    278    530  13567    186    154 \b   1221   4220   5204 ]\n",
            "C  [  4092   4620   2634   3615  15321  15351   1173  13536    739    217    234 \b   9445   4783   3915 ]\n",
            "G  [  4072   3374   3791   9961    187    212    750   1406   1229  15432  15422 \b   4098   3051   3841 ]\n",
            "T  [  3469   5211   6701   1304    180    289  13767    496    433    133    158 \b   1204   3914   3008 ]\n",
            "\u001b[1m~\u001b[m\n",
            "\u001b[1m~\u001b[m\n",
            "\u001b[1m~\u001b[m\n",
            "\u001b[1m~\u001b[m\n",
            "\u001b[1m~\u001b[m\n",
            "\u001b[1m~\u001b[m\n",
            "\u001b[1m~\u001b[m\n",
            "\u001b[1m~\u001b[m\n",
            "\u001b[1m~\u001b[m\n",
            "\u001b[1m~\u001b[m\n",
            "\u001b[1m~\u001b[m\n",
            "\u001b[1m~\u001b[m\n",
            "\u001b[1m~\u001b[m\n",
            "\u001b[1m~\u001b[m\n",
            "\u001b[K\u001b[7mTURN: No such file or directory  (press RETURN)\u001b[m\u0007\u001b[24;1H\u001b[K^C\n"
          ],
          "name": "stdout"
        }
      ]
    },
    {
      "cell_type": "code",
      "metadata": {
        "colab": {
          "base_uri": "https://localhost:8080/"
        },
        "id": "aCl9iACJey6k",
        "outputId": "01c97125-cce9-4174-989e-c25d57a7035f"
      },
      "source": [
        "from Bio import motifs\n",
        "motif = motifs.read(open(\"/content/drive/MyDrive/MA0003.4.jaspar\"),\"jaspar\")\n",
        "print(motif.counts)"
      ],
      "execution_count": null,
      "outputs": [
        {
          "output_type": "stream",
          "text": [
            "        0      1      2      3      4      5      6      7      8      9     10     11     12     13\n",
            "A: 4335.00 2763.00 2842.00 1088.00 280.00 116.00 278.00 530.00 13567.00 186.00 154.00 1221.00 4220.00 5204.00\n",
            "C: 4092.00 4620.00 2634.00 3615.00 15321.00 15351.00 1173.00 13536.00 739.00 217.00 234.00 9445.00 4783.00 3915.00\n",
            "G: 4072.00 3374.00 3791.00 9961.00 187.00 212.00 750.00 1406.00 1229.00 15432.00 15422.00 4098.00 3051.00 3841.00\n",
            "T: 3469.00 5211.00 6701.00 1304.00 180.00 289.00 13767.00 496.00 433.00 133.00 158.00 1204.00 3914.00 3008.00\n",
            "\n"
          ],
          "name": "stdout"
        }
      ]
    },
    {
      "cell_type": "code",
      "metadata": {
        "id": "rCopk5RMlE_0"
      },
      "source": [
        "motif.weblogo(\"giant_2.pdf\",format=\"pdf\")"
      ],
      "execution_count": null,
      "outputs": []
    }
  ]
}