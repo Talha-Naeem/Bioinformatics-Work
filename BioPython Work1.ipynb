{
 "cells": [
  {
   "cell_type": "code",
   "execution_count": 9,
   "id": "disabled-record",
   "metadata": {},
   "outputs": [
    {
     "name": "stdout",
     "output_type": "stream",
     "text": [
      "Collecting biopython\n",
      "  Using cached biopython-1.78-cp38-cp38-win_amd64.whl (2.3 MB)\n",
      "Requirement already satisfied: numpy in c:\\users\\sonic\\anaconda3\\envs\\conda-sagemaker\\lib\\site-packages (from biopython) (1.19.2)\n",
      "Installing collected packages: biopython\n",
      "Successfully installed biopython-1.78\n",
      "Note: you may need to restart the kernel to use updated packages.\n"
     ]
    }
   ],
   "source": [
    "pip install biopython"
   ]
  },
  {
   "cell_type": "code",
   "execution_count": 1,
   "id": "consolidated-decimal",
   "metadata": {},
   "outputs": [],
   "source": [
    "from Bio.Seq import Seq\n",
    "from Bio.SeqRecord import SeqRecord\n",
    "from Bio import SeqIO"
   ]
  },
  {
   "cell_type": "code",
   "execution_count": 1,
   "id": "fossil-tunisia",
   "metadata": {},
   "outputs": [
    {
     "data": {
      "text/plain": [
       "Seq('ATGGCGGGAAAATGA')"
      ]
     },
     "execution_count": 1,
     "metadata": {},
     "output_type": "execute_result"
    }
   ],
   "source": [
    "from Bio.Seq import Seq      # import Sequence library\n",
    "x = Seq(\"ATGGCGGGAAAATGA\") \n",
    "x"
   ]
  },
  {
   "cell_type": "code",
   "execution_count": 15,
   "id": "republican-output",
   "metadata": {},
   "outputs": [
    {
     "data": {
      "text/plain": [
       "'G'"
      ]
     },
     "execution_count": 15,
     "metadata": {},
     "output_type": "execute_result"
    }
   ],
   "source": [
    "x[7]"
   ]
  },
  {
   "cell_type": "code",
   "execution_count": 17,
   "id": "located-interaction",
   "metadata": {},
   "outputs": [
    {
     "data": {
      "text/plain": [
       "Seq('AUGGCGGGAAAAUGA')"
      ]
     },
     "execution_count": 17,
     "metadata": {},
     "output_type": "execute_result"
    }
   ],
   "source": [
    "x.transcribe()"
   ]
  },
  {
   "cell_type": "code",
   "execution_count": null,
   "id": "above-million",
   "metadata": {},
   "outputs": [],
   "source": [
    "# The GC content of a sequence is the percentage of the nucleotides in the sequence that are either G or C."
   ]
  },
  {
   "cell_type": "code",
   "execution_count": 19,
   "id": "found-guest",
   "metadata": {},
   "outputs": [
    {
     "data": {
      "text/plain": [
       "41.1764705882353"
      ]
     },
     "execution_count": 19,
     "metadata": {},
     "output_type": "execute_result"
    }
   ],
   "source": [
    "from Bio.SeqUtils import GC     # import GC library\n",
    "x = Seq(\"ATGGCGGGAAAATGATT\") \n",
    "GC(x)"
   ]
  },
  {
   "cell_type": "code",
   "execution_count": 20,
   "id": "numerical-liability",
   "metadata": {},
   "outputs": [
    {
     "name": "stdout",
     "output_type": "stream",
     "text": [
      "ATGCTGGGATATTGA\n"
     ]
    }
   ],
   "source": [
    "DNA = Seq(\"ATGCTGGGATATTGA\") \n",
    "print(DNA)"
   ]
  },
  {
   "cell_type": "code",
   "execution_count": 23,
   "id": "tamil-printer",
   "metadata": {},
   "outputs": [
    {
     "name": "stdout",
     "output_type": "stream",
     "text": [
      "AUGCUGGGAUAUUGA\n"
     ]
    }
   ],
   "source": [
    "Seq('ATGCTGGGATATTGA') \n",
    "mRNA = DNA.transcribe() \n",
    "print(mRNA)"
   ]
  },
  {
   "cell_type": "code",
   "execution_count": 31,
   "id": "empty-interface",
   "metadata": {},
   "outputs": [
    {
     "name": "stdout",
     "output_type": "stream",
     "text": [
      "MLGY*\n"
     ]
    }
   ],
   "source": [
    "Seq('AUGCUGGGAUAUUGA') \n",
    "protein = mRNA.translate() \n",
    "print(protein) "
   ]
  },
  {
   "cell_type": "code",
   "execution_count": 35,
   "id": "regulated-effectiveness",
   "metadata": {},
   "outputs": [
    {
     "name": "stdout",
     "output_type": "stream",
     "text": [
      "ATGCTGGGATATTGA\n",
      "AUGCUGGGAUAUUGA\n",
      "MLGY*\n"
     ]
    }
   ],
   "source": [
    "DNA = Seq(\"ATGCTGGGATATTGA\") \n",
    "print(DNA) \n",
    "mRNA = DNA.transcribe() \n",
    "print(mRNA) \n",
    "protein = mRNA.translate() \n",
    "print(protein)"
   ]
  },
  {
   "cell_type": "code",
   "execution_count": 10,
   "id": "medieval-klein",
   "metadata": {},
   "outputs": [
    {
     "name": "stdout",
     "output_type": "stream",
     "text": [
      "\n",
      "\n",
      "Transcribe the Sequence: AUGCUGCGGCGAGCUCCGUCCAAAAGAAAAUGGGGUUUGGUGUAAAUCUGGGGGUGUAAUGUUAUCAUAUAAAUAAAAGAAAAUGUAAAAAACAAAAACAAAAACAAAAAAGCC \n",
      "\n",
      "Translate the Sequence: MLRRAPSKRKWGLV*IWGCNVII*IKENVKNKNKNKKA\n"
     ]
    }
   ],
   "source": [
    "DNA=Seq('ATGCTGCGGCGAGCTCCGTCCAAAAGAAAATGGGGTTTGGTGTAAATCTGGGGGTGTAATGTTATCATATAAATAAAAGAAAATGTAAAAAACAAAAACAAAAACAAAAAAGCC')\n",
    "print(\"\\n\")\n",
    "mRNA = DNA.transcribe() \n",
    "print('Transcribe the Sequence:',mRNA,\"\\n\") \n",
    "protein = mRNA.translate() \n",
    "print('Translate the Sequence:',protein)"
   ]
  },
  {
   "cell_type": "code",
   "execution_count": 7,
   "id": "social-chess",
   "metadata": {},
   "outputs": [
    {
     "name": "stdout",
     "output_type": "stream",
     "text": [
      "\n",
      "\n",
      "Transcribe the Sequence: AUGCUGCGGCGAGCUCCGUCCAAAAGAAAAUGGGGUUUGGUGUAAAUCUGGGGGUGUAAUGUUAUCAUAUAAAUAAAAGAAAAUGUAAAAAACAAAAACAAAAACAAAAAAGCC \n",
      "\n",
      "Translate the Sequence: MLRRAPSKRKWGLV*IWGCNVII*IKENVKNKNKNKKA\n"
     ]
    }
   ],
   "source": [
    "DNA=Seq('ATGCTGCGGCGAGCTCCGTCCAAAAGAAAATGGGGTTTGGTGTAAATCTGGGGGTGTAATGTTATCATATAAATAAAAGAAAATGTAAAAAACAAAAACAAAAACAAAAAAGCC')\n",
    "print(\"\\n\")\n",
    "mRNA = DNA.transcribe() \n",
    "print('Transcribe the Sequence:',mRNA,\"\\n\") \n",
    "protein = mRNA.translate() \n",
    "print('Translate the Sequence:',protein)"
   ]
  },
  {
   "cell_type": "code",
   "execution_count": 10,
   "id": "environmental-passenger",
   "metadata": {},
   "outputs": [
    {
     "data": {
      "text/plain": [
       "Seq('CGG')"
      ]
     },
     "execution_count": 10,
     "metadata": {},
     "output_type": "execute_result"
    }
   ],
   "source": [
    "DNA = Seq(\"ATGGCGGGAAAATGA\") \n",
    "D1 = DNA[4:7] \n",
    "D1 "
   ]
  },
  {
   "cell_type": "code",
   "execution_count": 11,
   "id": "elegant-lyric",
   "metadata": {},
   "outputs": [
    {
     "data": {
      "text/plain": [
       "Seq('ACGTACGTACGT')"
      ]
     },
     "execution_count": 11,
     "metadata": {},
     "output_type": "execute_result"
    }
   ],
   "source": [
    "x = Seq('ACGTACGTACGT') \n",
    "y = x[0:len(x)] \n",
    "y "
   ]
  },
  {
   "cell_type": "code",
   "execution_count": 12,
   "id": "signal-tradition",
   "metadata": {},
   "outputs": [
    {
     "data": {
      "text/plain": [
       "Seq('AGAGAG')"
      ]
     },
     "execution_count": 12,
     "metadata": {},
     "output_type": "execute_result"
    }
   ],
   "source": [
    "x = Seq('ACGTACGTACGT')\n",
    "y = x[0:len(x):2] \n",
    "y"
   ]
  },
  {
   "cell_type": "code",
   "execution_count": 13,
   "id": "brief-segment",
   "metadata": {},
   "outputs": [
    {
     "data": {
      "text/plain": [
       "Seq('AGAGAG')"
      ]
     },
     "execution_count": 13,
     "metadata": {},
     "output_type": "execute_result"
    }
   ],
   "source": [
    "x = Seq('ACGTACGTACGT') \n",
    "y = x[::2] \n",
    "y"
   ]
  },
  {
   "cell_type": "code",
   "execution_count": 14,
   "id": "transsexual-active",
   "metadata": {},
   "outputs": [
    {
     "data": {
      "text/plain": [
       "Seq('TGCATGCATGCA')"
      ]
     },
     "execution_count": 14,
     "metadata": {},
     "output_type": "execute_result"
    }
   ],
   "source": [
    "x = Seq('ACGTACGTACGT') \n",
    "x[::-1]"
   ]
  },
  {
   "cell_type": "code",
   "execution_count": 16,
   "id": "junior-tongue",
   "metadata": {},
   "outputs": [
    {
     "data": {
      "text/plain": [
       "Seq('ACGTACGTACGT')"
      ]
     },
     "execution_count": 16,
     "metadata": {},
     "output_type": "execute_result"
    }
   ],
   "source": [
    "x = Seq('ACGTACGTACGT') \n",
    "x.reverse_complement()"
   ]
  },
  {
   "cell_type": "code",
   "execution_count": 17,
   "id": "opening-causing",
   "metadata": {},
   "outputs": [
    {
     "name": "stdout",
     "output_type": "stream",
     "text": [
      "NM_001146071.1 ACCCACCCTGCGCCCCAGCCCTCTACAGCGCGGGCGAAGGGCATCGGCGGGGAAGCGGCTGTGGTTGCCAGATCTGGCAGTACAGAGCCAAGGTGGCAGGGCCGCGCTAGGACACGGATGGTCCCAGGGGGAGGGCAACAGGAAAAACAAGCACTGACACAACTGCCCCATTTCCCCATGTCCCCTAAAAGCAGGTTTTCTTGGGCTGACCAGGGCATTTTCACTGTGGTGTCCGACTGGGGCAACTCGATCTGCCCGCGGGGACTCAAAAAAGCTTGAGCTGCATTTTTTCTTTGCGTCCGGGCGGACCAAAAGGCGAGGTGAAGGGAACGAGTGTTTATAAGAAAGTAAACTTTTGTGCAGAATGGGCTGGGGACACCTCTGAGTTTTGCTGCCCGCAACGTGACCTTTTTAGCGCGGTCCTGGACGCGTTCCCTCGCAGCCAACCCGTCAGTCTCCTCAGGCCTTATCCTGCCCTCTCTGAGGTGGCCGCCTGTGGGCGCTGCAAACGCCACACTTTTGCTCTACGAAGAACCTCCTCGCGACTTTCCAAGGTATCTTTCAGATGAAGGCATTGAAGCTTGCACAAGCTCTCCAGACAAAGTCAATGTAAATGACATCATCCTGATTGCTCTCAATATCTGAGAACAATTGGCAAGAAATTCCTCCCCAGTGACATCAATAGTGGAAAGGTAGAAAAGCTCGAAGGTCCATGTGTTTTGCAAATTCAAAAAATTCGCAATGTTGCTGCACCAAAGGATAATGAAGAATCTCAGGCTGCACCAAGGATGCTGCGATTACAGATGACTGATGGTCATATAAGTTGCACAGCAGTAGAATTTAGTTATATGTCAAAAATAAGCCTGAACACACCACCTGGAACTAAAGTTAAGCTCTCAGGCATTGTTGACATAAAAAATGGATTCCTGCTCTTGAATGACTCTAACACCACAGTTCTTGGTGGTGAAGTGGAACACCTTATTGAGAAATGGGAGTTACAGAGAAGCTTATCAAAACACAATAGAAGCAATATTGGAACTGAAGGTGGACCACCGCCTTTTGTGCCTTTTGGACAGAAGTGTGTATCTCATGTCCAAGTGGATAGCAGAGAACTTGATCGAAGAAAAACATTGCAAGTTACAATGCCTGTCAAACCTACAAATGATAATGATGAATTTGAAAAGCAAAGGACGGCTGCTATTGCTGAAGTTGCAAAGAGCAAGGAAACCAAGACATTTGGAGGAGGTGGTGGTGGTGCTAGAAGTAATCTCAATATGAATGCTGCTGGTAACCGAAATAGGGAAGTTTTACAGAAAGAAAAGTCAACCAAATCAGAGGGAAAACATGAAGGTGTCTATAGAGAACTGGTTGATGAGAAAGCTCTGAAGCACATAACGGAAATGGGCTTCAGTAAGGAAGCATCGAGGCAAGCTCTTATGGATAATGGCAACAACTTAGAAGCAGCACTGAACGTACTTCTTACAAGCAATAAACAGAAACCTGTTATGGGTCCTCCTCTGAGAGGTAGAGGAAAAGGCAGGGGGCGAATAAGATCTGAAGATGAAGAGGACCTGGGAAATGCAAGGCCATCAGCACCAAGCACATTATTTGATTTCTTGGAATCTAAAATGGGAACTTTGAATGTGGAAGAACCTAAATCACAGCCACAGCAGCTTCATCAGGGACAATACAGATCATCAAATACTGAGCAAAATGGAGTAAAAGATAATAATCATCTGAGACATCCTCCTCGAAATGATACCAGGCAGCCAAGAAATGAAAAACCGCCTCGTTTTCAAAGAGACTCCCAAAATTCAAAGTCAGTTTTAGAAGGCAGTGGATTACCTAGAAATAGAGGTTCTGAAAGACCAAGTACTTCTTCAGTATCTGAAGTATGGGCTGAAGACAGAATCAAATGTGATAGACCGTATTCTAGATATGACAGAACTAAAGATACTTCATATCCTTTAGGTTCTCAGCATAGTGATGGTGCTTTTAAAAAAAGAGATAACTCTATGCAAAGCAGATCAGGAAAAGGTCCCTCCTTTGCAGAGGCAAAAGAAAATCCACTTCCTCAAGGATCTGTAGATTATAATAATCAAAAACGTGGAAAAAGAGAAAGCCAAACATCTATTCCTGATTATTTTTATGACAGGAAATCACAAACAATAAATAATGAAGCTTTCAGTGGTATAAAAATTGAAAAACATTTTAATGTAAATACTGATTATCAGAATCCAGTTCGAAGTAATAGTTTCATTGGTGTTCCAAATGGAGAAGTAGAAATGCCACTGAAAGGAAGACGAATAGGACCTATTAAGCCAGCAGGACCTGTCACAGCTGTACCCTGTGATGATAAAATATTTTACAATAGTGGGCCCAAACGAAGATCTGGGCCAATTAAGCCAGAAAAAATACTAGAATCATCTATTCCTATGGAGTATGCAAAAATGTGGAAACCTGGAGATGAATGTTTTGCACTTTATTGGGAAGACAACAAGTTTTACCGGGCAGAAGTTGAAGCCCTCCATTCTTCGGGTATGACAGCAGTTGTTAAATTCATTGACTACGGAAACTATGAAGAGGTGCTACTGAGCAATATCAAGCCCATTCAAACAGAGGCATGGGAGGAAGAAGGCACCTACGATCAAACTCTGGAGTTCCGTAGGGGAGGTGATGGCCAGCCAAGACGATCCACTCGGCCAACCCAACAGTTTTACCAACCACCCCGGGCTCGGAACTAATAGGAAAAGTAGACTCTTTGTGAAGAAACGAGCCAGTGACTGAAACACCCTGGTGGAAACCTGTTGACAGACCTTCCACTTTCTCTTCAGAATAAGTAGCTGTGGTGGATATTATTATTTGAAGAAAGAAAAAACAGATTTTAGGGTGGAAAAAACAGTCAACTCACACAAAGAATGGAAAAAAATACTGAGTTAAATTAAGCAAATACCTTTTACAAGTGAAAGGAAGAATTTTTCTTCTGCCGTCAATAAAACCATTGTGCTATTATTGTTTTAAAAAAAAAAAAA\n"
     ]
    }
   ],
   "source": [
    "fastaFile = \"sequence 2.fasta\"\n",
    "sequences = SeqIO.parse(open(fastaFile),'fasta') \n",
    "for record in sequences: \n",
    "    print(record.id, record.seq)"
   ]
  },
  {
   "cell_type": "code",
   "execution_count": 23,
   "id": "automatic-nursery",
   "metadata": {},
   "outputs": [
    {
     "name": "stdout",
     "output_type": "stream",
     "text": [
      "LOCUS       NP_003173                129 aa            linear   PRI 16-FEB-2021\n",
      "DEFINITION  protachykinin-1 isoform beta precursor [Homo sapiens].\n",
      "ACCESSION   NP_003173\n",
      "VERSION     NP_003173.1\n",
      "DBSOURCE    REFSEQ: accession NM_003182.3\n",
      "KEYWORDS    RefSeq; MANE Select.\n",
      "SOURCE      Homo sapiens (human)\n",
      "  ORGANISM  Homo sapiens\n",
      "            Eukaryota; Metazoa; Chordata; Craniata; Vertebrata; Euteleostomi;\n",
      "            Mammalia; Eutheria; Euarchontoglires; Primates; Haplorrhini;\n",
      "            Catarrhini; Hominidae; Homo.\n",
      "REFERENCE   1  (residues 1 to 129)\n",
      "  AUTHORS   Gherardini J, Uchida Y, Hardman JA, Cheret J, Mace K, Bertolini M\n",
      "            and Paus R.\n",
      "  TITLE     Tissue-resident macrophages can be generated de novo in adult human\n",
      "            skin from resident progenitor cells during substance P-mediated\n",
      "            neurogenic inflammation ex vivo\n",
      "  JOURNAL   PLoS One 15 (1), e0227817 (2020)\n",
      "   PUBMED   31971954\n",
      "  REMARK    GeneRIF: Skin stimulation ex vivo with the neuropeptide substance P\n",
      "            (SP), mimicking neurogenic skin inflammation, significantly\n",
      "            increased the number of CD68+macrophages in the papillary dermis\n",
      "            without altering intracutaneous macrophages proliferation or\n",
      "            apoptosis.\n",
      "            Publication Status: Online-Only\n",
      "REFERENCE   2  (residues 1 to 129)\n",
      "  AUTHORS   Davoodian M, Boroumand N, Mehrabi Bahar M, Jafarian AH, Asadi M and\n",
      "            Hashemy SI.\n",
      "  TITLE     Evaluation of serum level of substance P and tissue distribution of\n",
      "            NK-1 receptor in breast cancer\n",
      "  JOURNAL   Mol Biol Rep 46 (1), 1285-1293 (2019)\n",
      "   PUBMED   30684188\n",
      "  REMARK    GeneRIF: Increased serum SP levels and NK1R tissue distribution\n",
      "            were observed in patients with breast cancer as compared with their\n",
      "            controls.\n",
      "REFERENCE   3  (residues 1 to 129)\n",
      "  AUTHORS   Xu H, Sun Y, Ma Z, Xu X, Qin L and Luo B.\n",
      "  TITLE     LOC134466 methylation promotes oncogenesis of endometrial carcinoma\n",
      "            through LOC134466/hsa-miR-196a-5p/TAC1 axis\n",
      "  JOURNAL   Aging (Albany NY) 10 (11), 3353-3370 (2018)\n",
      "   PUBMED   30485833\n",
      "  REMARK    GeneRIF: These findings establish a novel regulatory axis,\n",
      "            LOC134466/hsa-miR-196a-5p/TAC1. Downregulation of the axis promoted\n",
      "            EC development through TACR3, which further activated neuroactive\n",
      "            ligand-receptor interaction.\n",
      "REFERENCE   4  (residues 1 to 129)\n",
      "  AUTHORS   Taracanova A, Tsilioni I, Conti P, Norwitz ER, Leeman SE and\n",
      "            Theoharides TC.\n",
      "  TITLE     Substance P and IL-33 administered together stimulate a marked\n",
      "            secretion of IL-1beta from human mast cells, inhibited by\n",
      "            methoxyluteolin\n",
      "  JOURNAL   Proc Natl Acad Sci U S A 115 (40), E9381-E9390 (2018)\n",
      "   PUBMED   30232261\n",
      "  REMARK    GeneRIF: Preincubation of LAD2 cells with the natural flavonoid\n",
      "            methoxyluteolin (1-100 mM) inhibits (P < 0.0001) secretion and gene\n",
      "            expression of IL-1beta, procaspase-1, and pro-IL-1beta. Mast cell\n",
      "            secretion of IL-1beta in response to SP and IL-33 reveals targets\n",
      "            for the development of antiinflammatory therapies.\n",
      "REFERENCE   5  (residues 1 to 129)\n",
      "  AUTHORS   Woltering EA, Voros BA, Thiagarajan R, Beyer DT, Ramirez RA, Wang\n",
      "            YZ, Mamikunian G and Boudreaux JP.\n",
      "  TITLE     Plasma Neurokinin A Levels Predict Survival in Well-Differentiated\n",
      "            Neuroendocrine Tumors of the Small Bowel\n",
      "  JOURNAL   Pancreas 47 (7), 843-848 (2018)\n",
      "   PUBMED   29939909\n",
      "  REMARK    GeneRIF: Serial monitoring of plasma neurokinin A (NKA) levels is\n",
      "            useful in identifying patients who have a poor prognosis, and\n",
      "            elevated NKA levels can indicate the need for immediate therapeutic\n",
      "            intervention.\n",
      "REFERENCE   6  (residues 1 to 129)\n",
      "  AUTHORS   Bannon MJ, Poosch MS, Haverstick DM, Mandal A, Xue IC, Shibata K\n",
      "            and Dragovic LJ.\n",
      "  TITLE     Preprotachykinin gene expression in the human basal ganglia:\n",
      "            characterization of mRNAs and pre-mRNAs produced by alternate RNA\n",
      "            splicing\n",
      "  JOURNAL   Brain Res Mol Brain Res 12 (1-3), 225-231 (1992)\n",
      "   PUBMED   1312203\n",
      "REFERENCE   7  (residues 1 to 129)\n",
      "  AUTHORS   Chiwakata C, Brackmann B, Hunt N, Davidoff M, Schulze W and Ivell\n",
      "            R.\n",
      "  TITLE     Tachykinin (substance-P) gene expression in Leydig cells of the\n",
      "            human and mouse testis\n",
      "  JOURNAL   Endocrinology 128 (5), 2441-2448 (1991)\n",
      "   PUBMED   1708336\n",
      "REFERENCE   8  (residues 1 to 129)\n",
      "  AUTHORS   McGregor GP and Conlon JM.\n",
      "  TITLE     Characterization of the C-terminal flanking peptide of human\n",
      "            beta-preprotachykinin\n",
      "  JOURNAL   Peptides 11 (5), 907-910 (1990)\n",
      "   PUBMED   2284201\n",
      "REFERENCE   9  (residues 1 to 129)\n",
      "  AUTHORS   Theodorsson-Norheim,E., Jornvall,H., Andersson,M., Norheim,I.,\n",
      "            Oberg,K. and Jacobsson,G.\n",
      "  TITLE     Isolation and characterization of neurokinin A, neurokinin A(3-10)\n",
      "            and neurokinin A(4-10) from a neutral water extract of a metastatic\n",
      "            ileal carcinoid tumour\n",
      "  JOURNAL   Eur J Biochem 166 (3), 693-697 (1987)\n",
      "   PUBMED   3038549\n",
      "REFERENCE   10 (residues 1 to 129)\n",
      "  AUTHORS   Harmar,A.J., Armstrong,A., Pascall,J.C., Chapman,K., Rosie,R.,\n",
      "            Curtis,A., Going,J., Edwards,C.R. and Fink,G.\n",
      "  TITLE     cDNA sequence of human beta-preprotachykinin, the common precursor\n",
      "            to substance P and neurokinin A\n",
      "  JOURNAL   FEBS Lett 208 (1), 67-72 (1986)\n",
      "   PUBMED   3770210\n",
      "COMMENT     REVIEWED REFSEQ: This record has been curated by NCBI staff. The\n",
      "            reference sequence was derived from DN992454.1, AF050655.1 and\n",
      "            U37529.1.\n",
      "            \n",
      "            Summary: This gene encodes four products of the tachykinin peptide\n",
      "            hormone family, substance P and neurokinin A, as well as the\n",
      "            related peptides, neuropeptide K and neuropeptide gamma. These\n",
      "            hormones are thought to function as neurotransmitters which\n",
      "            interact with nerve receptors and smooth muscle cells. They are\n",
      "            known to induce behavioral responses and function as vasodilators\n",
      "            and secretagogues. Substance P is an antimicrobial peptide with\n",
      "            antibacterial and antifungal properties. Multiple transcript\n",
      "            variants encoding different isoforms have been found for this gene.\n",
      "            [provided by RefSeq, Nov 2014].\n",
      "            \n",
      "            Transcript Variant: Transcript variant beta encodes the full-length\n",
      "            form of this gene. It encodes hormones substance P, neurokinin A,\n",
      "            as well as the neuropeptide K.\n",
      "            \n",
      "            Publication Note:  This RefSeq record includes a subset of the\n",
      "            publications that are available for this gene. Please see the Gene\n",
      "            record to access additional publications.\n",
      "            \n",
      "            ##Evidence-Data-START##\n",
      "            Transcript exon combination :: BC018047.1, AK222957.1 [ECO:0000332]\n",
      "            RNAseq introns              :: single sample supports all introns\n",
      "                                           SAMEA1966682, SAMEA1968189\n",
      "                                           [ECO:0000348]\n",
      "            ##Evidence-Data-END##\n",
      "            \n",
      "            ##RefSeq-Attributes-START##\n",
      "            MANE Ensembl match                 :: ENST00000319273.10/\n",
      "                                                  ENSP00000321106.5\n",
      "            Protein has antimicrobial activity :: PMID: 12074933\n",
      "            RefSeq Select criteria             :: based on conservation,\n",
      "                                                  expression, longest protein\n",
      "            ##RefSeq-Attributes-END##\n",
      "FEATURES             Location/Qualifiers\n",
      "     source          1..129\n",
      "                     /organism=\"Homo sapiens\"\n",
      "                     /db_xref=\"taxon:9606\"\n",
      "                     /chromosome=\"7\"\n",
      "                     /map=\"7q21.3\"\n",
      "     Protein         1..129\n",
      "                     /product=\"protachykinin-1 isoform beta precursor\"\n",
      "                     /note=\"neuropeptide gamma; neuropeptide K; tachykinin,\n",
      "                     precursor 1 (substance K, substance P, neurokinin 1,\n",
      "                     neurokinin 2, neuromedin L, neurokinin alpha, neuropeptide\n",
      "                     K, neuropeptide gamma); tachykinin 2; protachykinin;\n",
      "                     preprotachykinin; neurokinin A; protachykinin-1; PPT\"\n",
      "                     /calculated_mol_wt=12910\n",
      "     sig_peptide     1..19\n",
      "                     /inference=\"COORDINATES: ab initio prediction:SignalP:4.0\"\n",
      "                     /calculated_mol_wt=2112\n",
      "     proprotein      20..129\n",
      "                     /product=\"protachykinin-1 isoform beta\"\n",
      "                     /calculated_mol_wt=12910\n",
      "     mat_peptide     58..68\n",
      "                     /product=\"substance P\"\n",
      "                     /experiment=\"DESCRIPTION:antimicrobial peptide[PMID:\n",
      "                     12074933]\"\n",
      "                     /calculated_mol_wt=1349\n",
      "     Site            59..60\n",
      "                     /site_type=\"cleavage\"\n",
      "                     /note=\"Cleavage, by FAP.\n",
      "                     /evidence=ECO:0000269|PubMed:21314817; propagated from\n",
      "                     UniProtKB/Swiss-Prot (P20366.1)\"\n",
      "     Site            68\n",
      "                     /site_type=\"amidation\"\n",
      "                     /note=\"Methionine amide.\n",
      "                     /evidence=ECO:0000269|PubMed:3770210; propagated from\n",
      "                     UniProtKB/Swiss-Prot (P20366.1)\"\n",
      "     mat_peptide     72..107\n",
      "                     /product=\"neuropeptide K\"\n",
      "                     /calculated_mol_wt=3982\n",
      "     mat_peptide     98..107\n",
      "                     /product=\"neurokinin A\"\n",
      "                     /calculated_mol_wt=1134\n",
      "     Site            107\n",
      "                     /site_type=\"amidation\"\n",
      "                     /note=\"Methionine amide.\n",
      "                     /evidence=ECO:0000269|PubMed:3038549,\n",
      "                     ECO:0000269|PubMed:3770210; propagated from\n",
      "                     UniProtKB/Swiss-Prot (P20366.1)\"\n",
      "     CDS             1..129\n",
      "                     /gene=\"TAC1\"\n",
      "                     /gene_synonym=\"Hs.2563; NK2; NKNA; NPK; TAC2\"\n",
      "                     /coded_by=\"NM_003182.3:120..509\"\n",
      "                     /note=\"isoform beta precursor is encoded by transcript\n",
      "                     variant beta\"\n",
      "                     /db_xref=\"CCDS:CCDS5649.1\"\n",
      "                     /db_xref=\"GeneID:6863\"\n",
      "                     /db_xref=\"HGNC:HGNC:11517\"\n",
      "                     /db_xref=\"MIM:162320\"\n",
      "ORIGIN      \n",
      "        1 mkilvalavf flvstqlfae eiganddlny wsdwydsdqi keelpepfeh llqriarrpk\n",
      "       61 pqqffglmgk rdadssiekq vallkalygh gqishkrhkt dsfvglmgkr alnsvayers\n",
      "      121 amqnyerrr\n",
      "//\n",
      "\n",
      "\n"
     ]
    }
   ],
   "source": [
    "from Bio import Entrez \n",
    "Entrez.email = \"example@oregonstate.edu\" \n",
    "p_handle = Entrez.efetch(db=\"protein\", id='4507341', rettype=\"gb\", retmode=\"text\") \n",
    "print(p_handle.read()) "
   ]
  },
  {
   "cell_type": "code",
   "execution_count": 24,
   "id": "corporate-senior",
   "metadata": {},
   "outputs": [
    {
     "name": "stdout",
     "output_type": "stream",
     "text": [
      "['4507341']\n"
     ]
    }
   ],
   "source": [
    "from Bio import Entrez \n",
    "Entrez.email = \"example@oregonstate.edu\" \n",
    "rec = Entrez.read(Entrez.esearch(db=\"protein\", term=\"NP_003173\")) \n",
    "print(rec['IdList'])"
   ]
  },
  {
   "cell_type": "code",
   "execution_count": 25,
   "id": "infectious-supply",
   "metadata": {},
   "outputs": [
    {
     "name": "stdout",
     "output_type": "stream",
     "text": [
      ">NP_003173.1 protachykinin-1 isoform beta precursor [Homo sapiens]\n",
      "MKILVALAVFFLVSTQLFAEEIGANDDLNYWSDWYDSDQIKEELPEPFEHLLQRIARRPKPQQFFGLMGK\n",
      "RDADSSIEKQVALLKALYGHGQISHKRHKTDSFVGLMGKRALNSVAYERSAMQNYERRR\n",
      "\n",
      "\n"
     ]
    }
   ],
   "source": [
    "p_handle = Entrez.efetch(db=\"protein\", id=rec[\"IdList\"][0], rettype=\"fasta\") \n",
    "print(p_handle.read())"
   ]
  },
  {
   "cell_type": "code",
   "execution_count": 28,
   "id": "public-abortion",
   "metadata": {},
   "outputs": [
    {
     "name": "stdout",
     "output_type": "stream",
     "text": [
      "['ACG', 7, 31, 43]\n"
     ]
    }
   ],
   "source": [
    "from Bio.Seq import Seq \n",
    "from Bio import SeqUtils \n",
    "pattern = Seq(\"ACG\") \n",
    "sequence = Seq(\"ATGCGCGACGGCGTGATCAGCTTATAGCCGTACGACTGCTGCAACGTGACTGAT\") \n",
    "results = SeqUtils.nt_search(str(sequence),pattern) \n",
    "print(results) "
   ]
  },
  {
   "cell_type": "code",
   "execution_count": 29,
   "id": "critical-contribution",
   "metadata": {},
   "outputs": [
    {
     "name": "stdout",
     "output_type": "stream",
     "text": [
      "['CGT', 11, 28, 44]\n"
     ]
    }
   ],
   "source": [
    "results_rc = SeqUtils.nt_search(str(sequence),pattern.reverse_complement()) \n",
    "print(results_rc) "
   ]
  },
  {
   "cell_type": "code",
   "execution_count": 30,
   "id": "opponent-mexico",
   "metadata": {},
   "outputs": [
    {
     "name": "stdout",
     "output_type": "stream",
     "text": [
      "['ACG', 7, 23, 40]\n"
     ]
    }
   ],
   "source": [
    "results_rc = SeqUtils.nt_search(str(sequence.reverse_complement()),pattern) \n",
    "print(results_rc)"
   ]
  },
  {
   "cell_type": "code",
   "execution_count": null,
   "id": "threaded-bookmark",
   "metadata": {},
   "outputs": [],
   "source": []
  }
 ],
 "metadata": {
  "kernelspec": {
   "display_name": "Python 3",
   "language": "python",
   "name": "python3"
  },
  "language_info": {
   "codemirror_mode": {
    "name": "ipython",
    "version": 3
   },
   "file_extension": ".py",
   "mimetype": "text/x-python",
   "name": "python",
   "nbconvert_exporter": "python",
   "pygments_lexer": "ipython3",
   "version": "3.8.5"
  }
 },
 "nbformat": 4,
 "nbformat_minor": 5
}
